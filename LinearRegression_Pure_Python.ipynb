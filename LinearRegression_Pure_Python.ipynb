{
  "nbformat": 4,
  "nbformat_minor": 0,
  "metadata": {
    "colab": {
      "name": "LinearRegression Pure Python.ipynb",
      "version": "0.3.2",
      "provenance": [],
      "collapsed_sections": [],
      "include_colab_link": true
    },
    "kernelspec": {
      "name": "python3",
      "display_name": "Python 3"
    }
  },
  "cells": [
    {
      "cell_type": "markdown",
      "metadata": {
        "id": "view-in-github",
        "colab_type": "text"
      },
      "source": [
        "<a href=\"https://colab.research.google.com/github/letsgogeeky/gcdc-machine-learning/blob/master/LinearRegression_Pure_Python.ipynb\" target=\"_parent\"><img src=\"https://colab.research.google.com/assets/colab-badge.svg\" alt=\"Open In Colab\"/></a>"
      ]
    },
    {
      "cell_type": "markdown",
      "metadata": {
        "id": "TElA2N9AV6rw",
        "colab_type": "text"
      },
      "source": [
        "# Linear Regression Example\n",
        "## Introduction\n",
        "Linear Regression is a continuous model.\n",
        "\n",
        "We'll be using 2 python packages. **numpy** and **matplotlib**. \n",
        "\n",
        "### Numpy\n",
        "A library to deal with numerical data representations such as arrays and matrix and other higher dimenssional data.\n",
        "\n",
        "### Matplotlib\n",
        "\n",
        "A python library to draw graphs and plots."
      ]
    },
    {
      "cell_type": "code",
      "metadata": {
        "id": "aqI921Ea1DGX",
        "colab_type": "code",
        "colab": {}
      },
      "source": [
        "import numpy as np\n",
        "import matplotlib.pyplot as plt"
      ],
      "execution_count": 0,
      "outputs": []
    },
    {
      "cell_type": "code",
      "metadata": {
        "id": "F3l_-z28XCrO",
        "colab_type": "code",
        "colab": {}
      },
      "source": [
        "def estimate_coefficients(x, y):\n",
        "  #size of the dataset or number of observations/points\n",
        "  n = np.size(x)\n",
        "  \n",
        "  mean_x, mean_y = np.mean(x), np.mean(y)\n",
        "  \n",
        "  \n",
        "  # cross deviation (the effect of x on y)\n",
        "  SS_xy = np.sum(y * x - n * mean_y * mean_x)\n",
        "  \n",
        "  # deviation of x\n",
        "  SS_xx = np.sum(x * x - n * mean_x * mean_x)\n",
        "  \n",
        "  \n",
        "  # y-intercept (value of y when x is 0)\n",
        "  b_1 = SS_xy / SS_xx\n",
        "  \n",
        "  # slope of the lin\n",
        "  b_0 = mean_y - b_1*mean_x\n",
        "  \n",
        "  return (b_0, b_1)"
      ],
      "execution_count": 0,
      "outputs": []
    },
    {
      "cell_type": "code",
      "metadata": {
        "id": "0X70q8ABXEBR",
        "colab_type": "code",
        "colab": {}
      },
      "source": [
        "def plot_regression_line(x, y, b):\n",
        "  \n",
        "  plt.scatter(x, y, color=\"m\", marker=\"o\", s=30)\n",
        "  \n",
        "  y_pred = b[0] + b[1] * x\n",
        "  \n",
        "  \n",
        "  plt.plot(x, y_pred, color=\"g\")\n",
        "  \n",
        "  \n",
        "  plt.xlabel('Size')\n",
        "  plt.ylabel('Cost')\n",
        "  \n",
        "  \n",
        "  plt.show()\n",
        "  "
      ],
      "execution_count": 0,
      "outputs": []
    },
    {
      "cell_type": "code",
      "metadata": {
        "id": "u2LY6XKYXHtT",
        "colab_type": "code",
        "colab": {}
      },
      "source": [
        "def predict(b_0, b_1, x):\n",
        "  return  b_0 + b_1 * x"
      ],
      "execution_count": 0,
      "outputs": []
    },
    {
      "cell_type": "code",
      "metadata": {
        "id": "8iErRP3KXMai",
        "colab_type": "code",
        "colab": {
          "base_uri": "https://localhost:8080/",
          "height": 385
        },
        "outputId": "fca2ab61-0935-4b68-d5dc-ee283f00b6b9"
      },
      "source": [
        " \n",
        "def main():\n",
        "  num_of_rooms = np.array([1, 2, 3, 4, 5, 6, 7, 8, 9, 10, 11, 12])\n",
        "  price = np.array([300, 350, 500, 700, 800, 850, 900, 900, 1000, 1200, 1220, 1300])\n",
        "  \n",
        "  b = estimate_coefficients(num_of_rooms, price)\n",
        "  \n",
        "  print(\"Estimated coefficients: \\nSlope \\nb_0 = {} \\n\\nY-intercept \\nb_1 = {}\".format(b[0], b[1]))\n",
        "  \n",
        "  plot_regression_line(num_of_rooms, price, b)\n",
        "  \n",
        "  \n",
        "  \n",
        "  return b[0], b[1]\n",
        "  \n",
        "b_0, b_1 = main()\n",
        "\n",
        "\n"
      ],
      "execution_count": 21,
      "outputs": [
        {
          "output_type": "stream",
          "text": [
            "Estimated coefficients: \n",
            "Slope \n",
            "b_0 = -6.67464114832535 \n",
            "\n",
            "Y-intercept \n",
            "b_1 = 129.4884063305116\n"
          ],
          "name": "stdout"
        },
        {
          "output_type": "display_data",
          "data": {
            "image/png": "[encoded data removed]",
            "text/plain": [
              "<Figure size 432x288 with 1 Axes>"
            ]
          },
          "metadata": {
            "tags": []
          }
        }
      ]
    },
    {
      "cell_type": "code",
      "metadata": {
        "id": "nALy6KMOXddz",
        "colab_type": "code",
        "colab": {
          "base_uri": "https://localhost:8080/",
          "height": 51
        },
        "outputId": "dc7d7dc3-4b58-4327-de6a-ee268e7da13c"
      },
      "source": [
        "result = predict(b_0, b_1, 8.5)\n",
        "print(result)\n",
        "\n",
        "predict_one_more_time = predict(b_0, b_1, 9.1)\n",
        "print(predict_one_more_time)"
      ],
      "execution_count": 17,
      "outputs": [
        {
          "output_type": "stream",
          "text": [
            "1093.9768126610234\n",
            "1171.6698564593303\n"
          ],
          "name": "stdout"
        }
      ]
    }
  ]
}