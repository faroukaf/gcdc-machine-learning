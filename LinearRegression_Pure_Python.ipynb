{
  "nbformat": 4,
  "nbformat_minor": 0,
  "metadata": {
    "colab": {
      "name": "LinearRegression Pure Python.ipynb",
      "version": "0.3.2",
      "provenance": [],
      "collapsed_sections": [],
      "include_colab_link": true
    },
    "kernelspec": {
      "name": "python3",
      "display_name": "Python 3"
    }
  },
  "cells": [
    {
      "cell_type": "markdown",
      "metadata": {
        "id": "view-in-github",
        "colab_type": "text"
      },
      "source": [
        "<a href=\"https://colab.research.google.com/github/letsgogeeky/gcdc-machine-learning/blob/master/LinearRegression_Pure_Python.ipynb\" target=\"_parent\"><img src=\"https://colab.research.google.com/assets/colab-badge.svg\" alt=\"Open In Colab\"/></a>"
      ]
    },
    {
      "cell_type": "markdown",
      "metadata": {
        "id": "TElA2N9AV6rw",
        "colab_type": "text"
      },
      "source": [
        "# Linear Regression Example\n",
        "## Introduction\n",
        "Linear Regression is a continuous model.\n",
        "\n",
        "We'll be using 2 python packages. **numpy** and **matplotlib**. \n",
        "\n",
        "### Numpy\n",
        "A library to deal with numerical data representations such as arrays and matrix and other higher dimenssional data.\n",
        "\n",
        "### Matplotlib\n",
        "\n",
        "A python library to draw graphs and plots."
      ]
    },
    {
      "cell_type": "code",
      "metadata": {
        "id": "aqI921Ea1DGX",
        "colab_type": "code",
        "colab": {}
      },
      "source": [
        "import numpy as np\n",
        "import matplotlib.pyplot as plt"
      ],
      "execution_count": 0,
      "outputs": []
    },
    {
      "cell_type": "code",
      "metadata": {
        "id": "F3l_-z28XCrO",
        "colab_type": "code",
        "colab": {}
      },
      "source": [
        "def estimate_coefficients(x, y):\n",
        "  #size of the dataset or number of observations/points\n",
        "  n = np.size(x)\n",
        "  \n",
        "  mean_x, mean_y = np.mean(x), np.mean(y)\n",
        "  \n",
        "  \n",
        "  # cross deviation (the effect of x on y)\n",
        "  #SS_xy = np.sum(y * x - n * mean_y * mean_x)\n",
        "  \n",
        "  # deviation of x\n",
        "  #SS_xx = np.sum(x * x - n * mean_x * mean_x)\n",
        "  \n",
        "  \n",
        "  # using the formula to calculate the b1 and b0\n",
        "  numerator = 0\n",
        "  denominator = 0\n",
        "  for i in range(n):\n",
        "      numerator += (x[i] - mean_x) * (y[i] - mean_y)\n",
        "      denominator += (x[i] - mean_x) ** 2\n",
        "  \n",
        "  \n",
        "  # y-intercept (value of y when x is 0)\n",
        "  b_1 = numerator / denominator\n",
        "  \n",
        "  # slope of the line\n",
        "  b_0 = mean_y - b_1 * mean_x\n",
        "  \n",
        "  return (b_0, b_1)"
      ],
      "execution_count": 0,
      "outputs": []
    },
    {
      "cell_type": "code",
      "metadata": {
        "id": "0X70q8ABXEBR",
        "colab_type": "code",
        "colab": {}
      },
      "source": [
        "def plot_regression_line(x, y, b):\n",
        "  \n",
        "  plt.scatter(x, y, color=\"m\", marker=\"o\", s=30)\n",
        "  \n",
        "  y_pred = b[0] + b[1] * x\n",
        "  \n",
        "  \n",
        "  plt.plot(x, y_pred, color=\"g\")\n",
        "  \n",
        "  \n",
        "  plt.xlabel('Years of Experience')\n",
        "  plt.ylabel('Salary')\n",
        "  \n",
        "  \n",
        "  plt.show()\n",
        "  "
      ],
      "execution_count": 0,
      "outputs": []
    },
    {
      "cell_type": "code",
      "metadata": {
        "id": "u2LY6XKYXHtT",
        "colab_type": "code",
        "colab": {}
      },
      "source": [
        "def predict(b_0, b_1, x):\n",
        "  return  b_0 + b_1 * x"
      ],
      "execution_count": 0,
      "outputs": []
    },
    {
      "cell_type": "code",
      "metadata": {
        "id": "8iErRP3KXMai",
        "colab_type": "code",
        "colab": {
          "base_uri": "https://localhost:8080/",
          "height": 385
        },
        "outputId": "02d59a81-2f10-46f1-c217-da792a88687f"
      },
      "source": [
        " \n",
        "def main():\n",
        "  years_of_exp = np.array([1, 1.5,  2, 3, 4, 5, 6, 7, 8, 8, 9, 10, 11, 12])\n",
        "  salary = np.array([300, 320, 350, 500, 700, 800, 850, 900, 1000, 900, 1000, 1200, 1220, 1300])\n",
        "  \n",
        "  b = estimate_coefficients(years_of_exp, salary)\n",
        "  \n",
        "  print(\"Estimated coefficients: \\nSlope \\nb_0 = {} \\n\\nY-intercept \\nb_1 = {}\".format(b[0], b[1]))\n",
        "  \n",
        "  plot_regression_line(years_of_exp, salary, b)\n",
        "  \n",
        "  \n",
        "  \n",
        "  return b[0], b[1]\n",
        "  \n",
        "b_0, b_1 = main()\n",
        "\n",
        "\n"
      ],
      "execution_count": 9,
      "outputs": [
        {
          "output_type": "stream",
          "text": [
            "Estimated coefficients: \n",
            "Slope \n",
            "b_0 = 237.1217712177122 \n",
            "\n",
            "Y-intercept \n",
            "b_1 = 91.66051660516605\n"
          ],
          "name": "stdout"
        },
        {
          "output_type": "display_data",
          "data": {
            "image/png": "[encoded data removed]",
            "text/plain": [
              "<Figure size 432x288 with 1 Axes>"
            ]
          },
          "metadata": {
            "tags": []
          }
        }
      ]
    },
    {
      "cell_type": "code",
      "metadata": {
        "id": "nALy6KMOXddz",
        "colab_type": "code",
        "colab": {
          "base_uri": "https://localhost:8080/",
          "height": 51
        },
        "outputId": "5dfe79a9-5862-40cd-cdac-937bf836763f"
      },
      "source": [
        "result = predict(b_0, b_1, 8.5)\n",
        "print(result)\n",
        "\n",
        "predict_one_more_time = predict(b_0, b_1, 9)\n",
        "print(predict_one_more_time)"
      ],
      "execution_count": 10,
      "outputs": [
        {
          "output_type": "stream",
          "text": [
            "1016.2361623616237\n",
            "1062.0664206642068\n"
          ],
          "name": "stdout"
        }
      ]
    },
    {
      "cell_type": "code",
      "metadata": {
        "id": "PQh-ZJNqhMoE",
        "colab_type": "code",
        "colab": {
          "base_uri": "https://localhost:8080/",
          "height": 85
        },
        "outputId": "7272f87b-15e2-48fb-9397-50a26302f050"
      },
      "source": [
        "from sklearn.linear_model import LinearRegression\n",
        "years_of_exp = np.array([1, 1.5,  2, 3, 4, 5, 6, 7, 8, 8, 9, 10, 11, 12])\n",
        "salary = np.array([300, 320, 350, 500, 700, 800, 850, 900, 1000, 900, 1000, 1200, 1220, 1300])\n",
        "  \n",
        "model = LinearRegression()\n",
        "x = years_of_exp.reshape(-1, 1)\n",
        "y = salary.reshape(-1, 1)\n",
        "model.fit(x, y)\n",
        "\n",
        "new_x = np.array([9, 10]).reshape(-1, 1)\n",
        "print(new_x)\n",
        "result = model.predict(new_x)\n",
        "\n",
        "print(result)"
      ],
      "execution_count": 12,
      "outputs": [
        {
          "output_type": "stream",
          "text": [
            "[[ 9]\n",
            " [10]]\n",
            "[[1062.06642066]\n",
            " [1153.72693727]]\n"
          ],
          "name": "stdout"
        }
      ]
    }
  ]
}